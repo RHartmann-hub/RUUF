{
 "cells": [
  {
   "cell_type": "code",
   "execution_count": 4,
   "metadata": {},
   "outputs": [
    {
     "name": "stdout",
     "output_type": "stream",
     "text": [
      "4\n"
     ]
    }
   ],
   "source": [
    "\n",
    "def rotar_rect(a,b):\n",
    "    return b,a\n",
    "\n",
    "\n",
    "def rect_en_rect(a,b,x,y,count=0):\n",
    "    veces_hor = int(x/a)    #Veces que cabe la linea horizontal a en x\n",
    "    veces_ver = int(y/b)    #Veces que cabe la linea vertical b en y\n",
    "    resto_hor = x%a             \n",
    "    resto_ver = y%b\n",
    "    area_restante = resto_hor*y + resto_ver*x - resto_ver*resto_hor\n",
    "\n",
    "    a_rot, b_rot = rotar_rect(a,b)\n",
    "\n",
    "    resto_hor_rot = x%a_rot             \n",
    "    resto_ver_rot = y%b_rot\n",
    "    area_restante_rot = resto_hor_rot*y + resto_ver_rot*x - resto_ver_rot*resto_hor_rot\n",
    "\n",
    "    if area_restante > area_restante_rot:\n",
    "        count = rect_en_rect(a_rot,b_rot,x,y, count)\n",
    "\n",
    "    elif veces_hor > 0 and veces_ver > 0:\n",
    "        count +=1\n",
    "        # Se evalua la separación del rectangulo en el eje vertical\n",
    "        if 0 < resto_ver < a and veces_ver == 1:\n",
    "            count = rect_en_rect(a,b,x-a,y,count) \n",
    "        # Se evalua la separación del rectangulo en el eje horizontal\n",
    "        elif resto_hor == 0 or resto_hor > b:\n",
    "            count = rect_en_rect(a,b,a,y-b,count) \n",
    "            count = rect_en_rect(a,b,x-a,y,count) \n",
    "        else:\n",
    "            count = rect_en_rect(a,b,x-a,b,count) \n",
    "            count = rect_en_rect(a,b,x,y-b,count)\n",
    "\n",
    "    return count \n",
    "    \n",
    "    "
   ]
  },
  {
   "cell_type": "code",
   "execution_count": 5,
   "metadata": {},
   "outputs": [],
   "source": [
    "\n",
    "def rect_en_tri(a,b,x,h,count=0):\n",
    "    if a < b:\n",
    "        lado_mayor = b\n",
    "        lado_menor = a\n",
    "    else:\n",
    "        lado_mayor = a\n",
    "        lado_menor = b\n",
    "        \n",
    "    if h > lado_menor:\n",
    "        x_sobra = lado_menor*((x/2)/h)      \n",
    "\n",
    "        x_rect = x - 2*x_sobra\n",
    "        y_rect = lado_menor\n",
    "        veces_hor = int(x_rect/lado_mayor)\n",
    "\n",
    "        if veces_hor == 0:\n",
    "            x_sobra = lado_mayor*((x/2)/h)      \n",
    "            x_rect = x - 2*x_sobra\n",
    "            y_rect = lado_mayor\n",
    "            veces_hor = int(x_rect/lado_mayor)\n",
    "\n",
    "        count += veces_hor\n",
    "\n",
    "        count = rect_en_tri(a,b,x_rect,h-y_rect,count)\n",
    "\n",
    "    return count\n",
    "\n",
    "\n"
   ]
  },
  {
   "cell_type": "code",
   "execution_count": 6,
   "metadata": {},
   "outputs": [
    {
     "data": {
      "text/plain": [
       "4"
      ]
     },
     "execution_count": 6,
     "metadata": {},
     "output_type": "execute_result"
    }
   ],
   "source": [
    "rect_en_rect(1,1,2,2)"
   ]
  },
  {
   "cell_type": "code",
   "execution_count": 7,
   "metadata": {},
   "outputs": [
    {
     "data": {
      "text/plain": [
       "5"
      ]
     },
     "execution_count": 7,
     "metadata": {},
     "output_type": "execute_result"
    }
   ],
   "source": [
    "rect_en_tri(1,3,7,7)"
   ]
  }
 ],
 "metadata": {
  "kernelspec": {
   "display_name": "Python 3",
   "language": "python",
   "name": "python3"
  },
  "language_info": {
   "codemirror_mode": {
    "name": "ipython",
    "version": 3
   },
   "file_extension": ".py",
   "mimetype": "text/x-python",
   "name": "python",
   "nbconvert_exporter": "python",
   "pygments_lexer": "ipython3",
   "version": "3.8.2"
  },
  "orig_nbformat": 4,
  "vscode": {
   "interpreter": {
    "hash": "9650cb4e16cdd4a8e8e2d128bf38d875813998db22a3c986335f89e0cb4d7bb2"
   }
  }
 },
 "nbformat": 4,
 "nbformat_minor": 2
}
